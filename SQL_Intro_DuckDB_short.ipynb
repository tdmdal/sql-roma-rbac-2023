{
  "nbformat": 4,
  "nbformat_minor": 0,
  "metadata": {
    "kernelspec": {
      "display_name": "Python 3",
      "language": "python",
      "name": "python3"
    },
    "language_info": {
      "codemirror_mode": {
        "name": "ipython",
        "version": 3
      },
      "file_extension": ".py",
      "mimetype": "text/x-python",
      "name": "python",
      "nbconvert_exporter": "python",
      "pygments_lexer": "ipython3",
      "version": "3.6.3"
    },
    "colab": {
      "provenance": []
    }
  },
  "cells": [
    {
      "cell_type": "markdown",
      "source": [
        "# ROMA & RBAC - Intro to SQL"
      ],
      "metadata": {
        "id": "uZPHNC3DPzvQ"
      }
    },
    {
      "cell_type": "markdown",
      "metadata": {
        "id": "dbmDBqw1P5hn"
      },
      "source": [
        "## 1 Preparation\n",
        "\n",
        "We start by setting up a connection to our sample database (DB), Northwind DB. The preparation consists of the following steps.\n",
        "\n",
        "1. Install a few Python packages to faciliate DB connection and further analysis via SQL.\n",
        "\n",
        "2. Import the packages and configure a few settings.\n",
        "\n",
        "3. Initialize a DB connection.\n",
        "\n",
        "4. Import data and create DB tables. (We are in fact building up a DB.)\n",
        "\n",
        "Normally setting up a DB system would be the task of a DB engineer, and it's a complicated process. As a data/business analyst, you simply connect to a DB, query the data stored in DB tables, and perform various analysis. However, to prepare you for the case competition, I'll show you how to setup a lightweight DB system on your own, and import raw data to create DB tables.\n",
        "\n",
        "The choice of our database engine is [DuckDB](https://duckdb.org/). DuckDB is an in-process OLAP Relational DB Management System (RDBMS). In-process DBMS, sometimes also called embedded DBMS, means it's lightweight and can be easily integrated with your application. OLAP (OnLine Analytical Processing) means the DBMS is desinged mainly to support analytical query workloads, which include complex long-running queries, aggregations and table joins.\n",
        "\n",
        "DuckDB comes with many cool features, in particular, it's columnar-vectorized query execution engine. I won't get into the details. See [here](https://duckdb.org/why_duckdb.html) if you are interested.\n",
        "\n",
        "Typical enterprise-level RDBMS (MS SQL server, PostgreSQL, etc.) are much more complicated to setup and manage. DuckDB is excellent for stand-alone data analytics tasks on your local computer, and a good DBMS to learn SQL. ([SQLite](https://www.sqlite.org/index.html) is another good choice.)\n",
        "\n",
        "However, I also want to point out that DuckDB is only a few years old (preview  released in 2019), and it's still in active development and is maintained by the open source community, so you may encounter minor bugs when using it."
      ]
    },
    {
      "cell_type": "markdown",
      "source": [
        "### 1.1 Insall Python packages"
      ],
      "metadata": {
        "id": "5ImbdmPPYT7o"
      }
    },
    {
      "cell_type": "code",
      "source": [
        "# 1) duckdb: DuckDB Python API\n",
        "# ref: https://duckdb.org/docs/api/python/overview.html\n",
        "\n",
        "# 2) jupysql: run SQL and plot data in a Jupyter notebook via %sql, %%sql, and %sqlplot magics\n",
        "# ref: https://jupysql.readthedocs.io/en/latest/quick-start.html\n",
        "\n",
        "# 3) duckdb-engine: Basic SQLAlchemy driver for DuckDB\n",
        "# ref: https://github.com/Mause/duckdb_engine\n",
        "\n",
        "# 4) pandas: Python dataframe manipulation tool\n",
        "# ref: https://pandas.pydata.org/\n",
        "\n",
        "# 4) matplotlib: Python plotting tool\n",
        "# ref: https://matplotlib.org/\n",
        "\n",
        "!pip install --quiet duckdb \n",
        "!pip install --quiet jupysql \n",
        "!pip install --quiet duckdb-engine\n",
        "!pip install --quiet pandas\n",
        "!pip install --quiet matplotlib"
      ],
      "metadata": {
        "id": "iDELQxmmO_rz"
      },
      "execution_count": null,
      "outputs": []
    },
    {
      "cell_type": "markdown",
      "source": [
        "### 1.2 Import the packages and configure a few settings"
      ],
      "metadata": {
        "id": "FF5WR_nBajxb"
      }
    },
    {
      "cell_type": "code",
      "source": [
        "import duckdb\n",
        "import pandas as pd\n",
        "# No need to import sqlalchemy or duckdb_engine\n",
        "# JupySQL will use SQLAlchemy to auto-detect the driver needed based on your connection string!\n",
        "\n",
        "# Import jupysql Jupyter extension to create SQL cells\n",
        "%load_ext sql"
      ],
      "metadata": {
        "id": "aWHOa8UsPLIV"
      },
      "execution_count": null,
      "outputs": []
    },
    {
      "cell_type": "markdown",
      "source": [
        "Configure jupysql to return data as a Pandas dataframe and have less verbose output"
      ],
      "metadata": {
        "id": "eFX4NcxXPXU6"
      }
    },
    {
      "cell_type": "code",
      "source": [
        "%config SqlMagic.autopandas = True\n",
        "%config SqlMagic.feedback = False\n",
        "%config SqlMagic.displaycon = False"
      ],
      "metadata": {
        "id": "9FhcMYH8PV-3"
      },
      "execution_count": null,
      "outputs": []
    },
    {
      "cell_type": "markdown",
      "source": [
        "### 1.3 Connecting to DuckDB\n",
        "Connect jupysql to DuckDB using a SQLAlchemy-style connection string. You may either connect to an in memory DuckDB, which is our case, or a file backed DB."
      ],
      "metadata": {
        "id": "L5GeXBhbR-Cy"
      }
    },
    {
      "cell_type": "code",
      "source": [
        "%sql duckdb:///:memory:\n",
        "# %sql duckdb:///path/to/file.db"
      ],
      "metadata": {
        "id": "fYFsW3rKSBD6"
      },
      "execution_count": null,
      "outputs": []
    },
    {
      "cell_type": "markdown",
      "source": [
        "Once the connection is set, let's check the version of DuckDB we are using."
      ],
      "metadata": {
        "id": "SxSGH7BPwPxN"
      }
    },
    {
      "cell_type": "code",
      "metadata": {
        "id": "3JdLzIG-P5iE"
      },
      "source": [
        "%%sql\n",
        "-- check DuckDB version\n",
        "PRAGMA version;"
      ],
      "execution_count": null,
      "outputs": []
    },
    {
      "cell_type": "markdown",
      "source": [
        "### 1.4 Download raw data and create tables in the Database"
      ],
      "metadata": {
        "id": "PGoXYM1_iWc1"
      }
    },
    {
      "cell_type": "code",
      "source": [
        "# download raw data for the Northwind DB: 8 csv data files stored on github\n",
        "!wget --quiet https://raw.githubusercontent.com/tdmdal/datasets-teaching/main/nw/csv/Categories.csv\n",
        "!wget --quiet https://raw.githubusercontent.com/tdmdal/datasets-teaching/main/nw/csv/Customers.csv\n",
        "!wget --quiet https://raw.githubusercontent.com/tdmdal/datasets-teaching/main/nw/csv/Employees.csv\n",
        "!wget --quiet https://raw.githubusercontent.com/tdmdal/datasets-teaching/main/nw/csv/OrderDetails.csv\n",
        "!wget --quiet https://raw.githubusercontent.com/tdmdal/datasets-teaching/main/nw/csv/Orders.csv\n",
        "!wget --quiet https://raw.githubusercontent.com/tdmdal/datasets-teaching/main/nw/csv/Products.csv\n",
        "!wget --quiet https://raw.githubusercontent.com/tdmdal/datasets-teaching/main/nw/csv/Shippers.csv\n",
        "!wget --quiet https://raw.githubusercontent.com/tdmdal/datasets-teaching/main/nw/csv/Suppliers.csv"
      ],
      "metadata": {
        "id": "EF-j2VV1Sasl"
      },
      "execution_count": null,
      "outputs": []
    },
    {
      "cell_type": "code",
      "source": [
        "# import csv files to create tables\n",
        "# ref: https://duckdb.org/docs/data/csv.html\n",
        "%%sql\n",
        "DROP TABLE IF EXISTS Categories; \n",
        "CREATE TABLE Categories AS SELECT * FROM read_csv_auto('Categories.csv', NULLSTR=\"NULL\");\n",
        "\n",
        "DROP TABLE IF EXISTS Customers; \n",
        "CREATE TABLE Customers AS SELECT * FROM read_csv_auto('Customers.csv', NULLSTR=\"NULL\", HEADER=TRUE);\n",
        "\n",
        "DROP TABLE IF EXISTS Employees; \n",
        "CREATE TABLE Employees AS SELECT * FROM read_csv_auto('Employees.csv', NULLSTR=\"NULL\");\n",
        "\n",
        "DROP TABLE IF EXISTS OrderDetails; \n",
        "CREATE TABLE OrderDetails AS SELECT * FROM read_csv_auto('OrderDetails.csv', NULLSTR=\"NULL\");\n",
        "\n",
        "DROP TABLE IF EXISTS Orders; \n",
        "CREATE TABLE Orders AS SELECT * FROM read_csv_auto('Orders.csv', NULLSTR=\"NULL\");\n",
        "\n",
        "DROP TABLE IF EXISTS Products; \n",
        "CREATE TABLE Products AS SELECT * FROM read_csv_auto('Products.csv', NULLSTR=\"NULL\");\n",
        "\n",
        "DROP TABLE IF EXISTS Shippers; \n",
        "CREATE TABLE Shippers AS SELECT * FROM read_csv_auto('Shippers.csv', NULLSTR=\"NULL\");\n",
        "\n",
        "DROP TABLE IF EXISTS Suppliers;\n",
        "CREATE TABLE Suppliers AS SELECT * FROM read_csv_auto('Suppliers.csv', NULLSTR=\"NULL\");"
      ],
      "metadata": {
        "id": "duBJoQF0WkTR"
      },
      "execution_count": null,
      "outputs": []
    },
    {
      "cell_type": "markdown",
      "source": [
        "In the above, we first drop (delete) a table if it already exists in order to create a fresh new table of the same name. We then create the table, whose content is the the result of selecing all columns (`SELECT * FROM`) of the imported csv file (`read_csv_auto()`).\n",
        "\n",
        "`read_csv_auto()` imports a CSV file by automatically analyzing the file to decide how to parse it, i.e., to determine whether the file has a header row, what's the type of each data column, etc. Details of `read_csv_auto()` parameters/configurations can be found [here](https://duckdb.org/docs/data/csv). After you import a dataset and create a table for it, you always want to verify whether the data import process is done correctly. See Section 2.1, 2.2, and Ex.1 for how to do that.\n",
        "\n",
        "Note that we won't further establish relationships (primary keys, foreign keys, constraints, etc.) between tables. This is for simplicity. After all, this is an intro workshop."
      ],
      "metadata": {
        "id": "I4fn3YyBAoN6"
      }
    },
    {
      "cell_type": "markdown",
      "source": [
        "## 2 A quick look at Northwind DB"
      ],
      "metadata": {
        "id": "RJl-q8LEPmAW"
      }
    },
    {
      "cell_type": "markdown",
      "metadata": {
        "id": "bZZn0JyrP5iQ"
      },
      "source": [
        "### 2.1 How many tables does this DB have?\n",
        "\n",
        "A database may contain many tables. In our case, we just imported 8 raw CSV files and created 8 tables in the database, so let's confirm it."
      ]
    },
    {
      "cell_type": "code",
      "source": [
        "%%sql\n",
        "PRAGMA show_tables;"
      ],
      "metadata": {
        "id": "op1u-wDo6cRf"
      },
      "execution_count": null,
      "outputs": []
    },
    {
      "cell_type": "markdown",
      "metadata": {
        "id": "JZediGsUP5ic"
      },
      "source": [
        "### 2.2 How does the Categories table look like?\n",
        "\n",
        "A table is made up of one or more columns/fields. Let's take a look a the Categories table (column names, types, etc.)."
      ]
    },
    {
      "cell_type": "code",
      "metadata": {
        "id": "Kf76Zf33Zuh4"
      },
      "source": [
        "%sql PRAGMA table_info(\"Categories\");"
      ],
      "execution_count": null,
      "outputs": []
    },
    {
      "cell_type": "markdown",
      "metadata": {
        "id": "L2pGEGfg4zXW"
      },
      "source": [
        "A column/field can be of different types, i.e., it can store different types of data. In DuckDB, for example, the [types](https://duckdb.org/docs/sql/data_types/overview.html) can be INTEGER, REAL, TIMESTAMP, etc. "
      ]
    },
    {
      "cell_type": "markdown",
      "metadata": {
        "id": "h5EZYKPcP5iq"
      },
      "source": [
        "### 2.3 How about the relationships between the tables?\n",
        "\n",
        "We present the relationships (primary keys, foreign keys, constraints, etc.) between the tables using an Entity Relationship (ER) diagram.\n",
        "\n",
        "Note that for a well-designed and maintained DB, a DB engineer would establish those relationships between the tables, and enforce them in the DB system. In our case, after we imported data and created the tables, we didn't create any relationships. (This is an intro workshop so we kept things simple.) Therefore, the relationships presented in the ER diagram are more of \"virtual\" relationships, i.e., logical relations exist in your head.\n",
        "\n",
        "<img src=\"https://github.com/tdmdal/datasets-teaching/raw/main/nw/images/NW_ER.png\" alt=\"ER Diagram\" width=\"836\" height=\"605\" />\n",
        "\n",
        "In the above ER diagram, the tiny vertical key icon indicates a column is a primary key. A primary key is a column (or set of columns) whose values uniquely identify every row in a table. For example, `OrderID` is the primary key in the `Orders` table, and `OrderID` and `ProductID` (combined) is the primary key in the `OrderDetails` table.\n",
        "\n",
        "The relationship icon (a line with a horizontal key at one end and an infinite symbol at the other end) indicates a foreign key constraint and a one-to-many relationship. A foreign key is a column (or set of columns) in one table whose values uniquely identify a row of another table or the same table. A foreign key mostly refers to a primary key in another table. A foreign key constraint requires that the constrained column contain only values from the primary key column of the other table. For example `CustomerID` in the `Orders` table is a foreign key that refers to the `CustomerID` primary key in the `Customers` table, and it can only contain values that exist in the `CustomerID` column of the `Customers` table.\n",
        "\n",
        "In addition, it happens that every foreign key constraint in the Northwind DB establishes a one-to-many relationship, i.e. a row from one table can have multiple matching rows in another table. For example, one row from the `Customers` table can match multiple rows in the `Orders` table (via `CustomerID`). This makes sense as one customer can place more than one orders. (Another common relationship a foreign key constraint can establish is the one-to-one relationship.)\n",
        "\n",
        "|logo|meaning|\n",
        "|:------:|:------:|\n",
        "|![key logo](https://github.com/tdmdal/datasets-teaching/raw/main/nw/images/key_vertical.png \"key logo\")|primary key|\n",
        "|![foreign key constraint](https://github.com/tdmdal/datasets-teaching/raw/main/nw/images/relationship.png \"foreign key constraint\")|one-to-many foreign key contraint|\n",
        "\n",
        "**Question**: Why do we need foreign key constraints? (Discussion)"
      ]
    },
    {
      "cell_type": "markdown",
      "source": [
        "## 3 Learning SQL basics by doing\n",
        "\n",
        "**We will work on the problems with a * sign together.** Other problems are left for homework."
      ],
      "metadata": {
        "id": "lUMpneOVRydl"
      }
    },
    {
      "cell_type": "markdown",
      "metadata": {
        "id": "pCMJAERPP5i4"
      },
      "source": [
        "### Part 1. Basics\n",
        "\n",
        "We will learn\n",
        "\n",
        "1. Retrieve data: `SELECT...FROM...`\n",
        "2. Sort retrieved data: `SELECT...FROM...ORDER BY...`\n",
        "3. Filter data: `SELECT...FROM...WHERE...`; `IN`, `NOT`, `LIKE` and `%` wildcard\n",
        "4. Create calculated columns (fields): mathematical calculations (e.g. +, -, *, /); data manipulation functions (e.g. `age()`, `||`) "
      ]
    },
    {
      "cell_type": "markdown",
      "metadata": {
        "id": "DsN97oCBP5i5"
      },
      "source": [
        "#### Ex1*. Which categories do we have?\n",
        "\n",
        "Display `CategoryName` and `Description` in the `Categories` table."
      ]
    },
    {
      "cell_type": "code",
      "metadata": {
        "id": "DkcFjUPZP5i7"
      },
      "source": [
        "%%sql\n",
        "-- start your code here\n"
      ],
      "execution_count": null,
      "outputs": []
    },
    {
      "cell_type": "markdown",
      "source": [
        "Note that a query result can be saved into a Python dataframe using the `<<` operator. You can further process the dataframe using Python, or export it as a CSV file using `your_dataframe.to_csv('your_filename.csv')` to further process it in other analytics tools."
      ],
      "metadata": {
        "id": "NXzjZannbWxs"
      }
    },
    {
      "cell_type": "code",
      "source": [
        "# demo code here: %sql my_df <<\n",
        "# %sql my_df << ;"
      ],
      "metadata": {
        "id": "_tYN7QqtdroI"
      },
      "execution_count": null,
      "outputs": []
    },
    {
      "cell_type": "code",
      "source": [
        "# demo code here: %%sql my_df <<\n",
        "# %%sql\n",
        "# my_df << ;"
      ],
      "metadata": {
        "id": "E_ZqHKyia1kV"
      },
      "execution_count": null,
      "outputs": []
    },
    {
      "cell_type": "code",
      "source": [
        "# demo code here: my_df\n",
        "# my_df"
      ],
      "metadata": {
        "id": "hkpktR04bLQN"
      },
      "execution_count": null,
      "outputs": []
    },
    {
      "cell_type": "code",
      "source": [
        " # demo code here:\n",
        " # my_df.to_csv(\"my_data.csv\")"
      ],
      "metadata": {
        "id": "brV4FPROAmua"
      },
      "execution_count": null,
      "outputs": []
    },
    {
      "cell_type": "markdown",
      "source": [
        "Alternatively, you can also create a temporary table from the `SELECT` output, and further query it using SQL."
      ],
      "metadata": {
        "id": "HPCB7y3Hz6Y7"
      }
    },
    {
      "cell_type": "code",
      "source": [
        "%%sql\n",
        "-- demo code here\n",
        "-- DROP TABLE IF EXISTS my_category; \n",
        "\n",
        "-- CREATE TEMP TABLE my_category AS\n",
        "\n",
        "-- SELECT * FROM my_category;"
      ],
      "metadata": {
        "id": "-VTdAnUT0RY2"
      },
      "execution_count": null,
      "outputs": []
    },
    {
      "cell_type": "markdown",
      "metadata": {
        "id": "vfyHGYXUP5jS"
      },
      "source": [
        "#### Ex2. Which shippers do we have?"
      ]
    },
    {
      "cell_type": "code",
      "metadata": {
        "id": "Yewkdb61P5jV"
      },
      "source": [
        "%%sql\n",
        "-- start your code here\n"
      ],
      "execution_count": null,
      "outputs": []
    },
    {
      "cell_type": "markdown",
      "metadata": {
        "id": "CJGFfDmMP5jd"
      },
      "source": [
        "#### Ex3* Find names and hire dates of all US sales representatives\n",
        "\n",
        "The resulting table should display `FirstName`, `LastName`, `HireDate`, `Title` and `Country`."
      ]
    },
    {
      "cell_type": "code",
      "metadata": {
        "id": "nAijMy1ZP5je"
      },
      "source": [
        "%%sql\n",
        "-- take a look at the Employees table first\n",
        "-- use LIMIT to limit the rows being displayed\n",
        "SELECT FirstName, LastName, HireDate, Title, Country\n",
        "FROM Employees\n",
        "LIMIT 10;"
      ],
      "execution_count": null,
      "outputs": []
    },
    {
      "cell_type": "code",
      "metadata": {
        "id": "s7SiTpDIP5jm"
      },
      "source": [
        "%%sql\n",
        "-- just curious, how many distinct coutries do we have?\n",
        "SELECT DISTINCT Country\n",
        "FROM Employees;"
      ],
      "execution_count": null,
      "outputs": []
    },
    {
      "cell_type": "code",
      "metadata": {
        "id": "ZzSRms3PP5jw"
      },
      "source": [
        "%%sql\n",
        "-- start your code here\n"
      ],
      "execution_count": null,
      "outputs": []
    },
    {
      "cell_type": "markdown",
      "metadata": {
        "id": "HjWUArDrP5j_"
      },
      "source": [
        "#### Ex4. Find supplier contacts who are *not* marketing managers\n",
        "\n",
        "Display `supplierID`, `ContactNames` and `ContactTitle` for those whose `ContactTitle` is *not* Marketing Manager.\n",
        "\n",
        "Hint: `NOT` operator. See [here](https://duckdb.org/docs/sql/expressions/logical_operators)."
      ]
    },
    {
      "cell_type": "code",
      "metadata": {
        "id": "uKSTe5S_P5kL"
      },
      "source": [
        "%%sql\n",
        "-- start your code here\n"
      ],
      "execution_count": null,
      "outputs": []
    },
    {
      "cell_type": "markdown",
      "metadata": {
        "id": "v67A6_DaP5kQ"
      },
      "source": [
        "#### Ex.5* Find products with \"Chef\" in its name\n",
        "\n",
        "Hint: `LIKE` operator and `%` wildcard. See [here](https://duckdb.org/docs/sql/functions/patternmatching.html) for details."
      ]
    },
    {
      "cell_type": "code",
      "metadata": {
        "id": "nPmZVr5wP5kS"
      },
      "source": [
        "%%sql\n",
        "-- start your code here\n"
      ],
      "execution_count": null,
      "outputs": []
    },
    {
      "cell_type": "markdown",
      "metadata": {
        "id": "8td7jDiWP5ke"
      },
      "source": [
        "#### Ex.6 Find all orders shipping to Canada, Mexico or USA.\n",
        "\n",
        "Hint: `IN` operator. See [here](https://duckdb.org/docs/sql/expressions/in.html)."
      ]
    },
    {
      "cell_type": "code",
      "metadata": {
        "id": "GGQJqpMzP5kf"
      },
      "source": [
        "%%sql\n",
        "-- start your code here\n"
      ],
      "execution_count": null,
      "outputs": []
    },
    {
      "cell_type": "markdown",
      "metadata": {
        "id": "actDI1XLP5kl"
      },
      "source": [
        "#### Ex.7* Who is the oldest employee?\n",
        "\n",
        "Display `FirstName`, `LastName`, `Title`, `BirthDate`, and age. Order the result by age in descending order.\n",
        "\n",
        "Hint: [`age()`](https://duckdb.org/docs/sql/functions/timestamp) and [`year()`](https://duckdb.org/docs/sql/functions/datepart) functions."
      ]
    },
    {
      "cell_type": "code",
      "metadata": {
        "id": "0xIt3fpHP5kl"
      },
      "source": [
        "%%sql\n",
        "-- start your code here\n"
      ],
      "execution_count": null,
      "outputs": []
    },
    {
      "cell_type": "markdown",
      "metadata": {
        "id": "h107mQkjP5kx"
      },
      "source": [
        "#### EX.8 Show employee full name\n",
        "\n",
        "Show the `FirstName` and `LastName` columns from the `Employees` table, and then create a new column called `FullName`, showing first name and last name concatenated in the format of \"LASTNAME, Firstname\", e.g. \"DAVOLIO, Nancy\".\n",
        "\n",
        "Hint: See [text functions](https://duckdb.org/docs/sql/functions/char)."
      ]
    },
    {
      "cell_type": "code",
      "metadata": {
        "id": "dmCenF_lP5kz"
      },
      "source": [
        "%%sql\n",
        "-- start your code here\n"
      ],
      "execution_count": null,
      "outputs": []
    },
    {
      "cell_type": "markdown",
      "metadata": {
        "id": "heh3Gl-CP5k5"
      },
      "source": [
        "#### Ex.9* Which order items have total sales above $12,000.\n",
        "\n",
        "In the `OrderDetails` table, we have the columns `UnitPrice` and `Quantity`. Create a new column, `TotalPrice`, that multiplies these two (ignore the `Discount` column). Display `OrderID`, `ProductID`, `UnitPrice`, `Quantity` and `TotalPrice`. Order the result first by `ProductID` (ascending) and then by `TotalPrice` (descending).\n",
        "\n",
        "Note that the question asks about order items (not orders). One order may contain multiple items/products. An order item is identified by the `OrderID` and `ProductID` columns."
      ]
    },
    {
      "cell_type": "code",
      "metadata": {
        "id": "8jlohcepP5k5"
      },
      "source": [
        "%%sql\n",
        "-- start your code here\n"
      ],
      "execution_count": null,
      "outputs": []
    },
    {
      "cell_type": "markdown",
      "metadata": {
        "id": "8SitwG-HP5lG"
      },
      "source": [
        "#### Ex.10 Show all products that need reordering\n",
        "\n",
        "A product need reordering if `UnitsInStock + UnitsOnOrder <= ReorderLevel` and `Discontinued = 0`. In your result, display `ProductID`, `ProductName`, `UnitsInStock`, `UnitsOnOrder`, `ReorderLevel`, and `Discontinued`."
      ]
    },
    {
      "cell_type": "code",
      "metadata": {
        "id": "w6WKD5WTP5lG"
      },
      "source": [
        "%%sql\n",
        "-- start your code here\n"
      ],
      "execution_count": null,
      "outputs": []
    },
    {
      "cell_type": "markdown",
      "source": [
        "### Part 2. Summarize and Group Data\n",
        "\n",
        "1. Summarize data using aggregate functions (e.g. `COUNT()`, `MIN()`, `MAX()`, and `AVG()`).\n",
        "2. Group data and filter groups: `SELECT...FROM...GROUP BY...HAVING...`.\n",
        "3. `SELECT` clause ordering: `SELECT...FROM...WHERE...GROUP BY...HAVING...ORDER BY...`.\n",
        "4. Filter data by *subquery* (optional): `SELECT...FROM...WHERE...(SELECT...FROM...)`"
      ],
      "metadata": {
        "id": "jpS7QSpbST3C"
      }
    },
    {
      "cell_type": "markdown",
      "metadata": {
        "id": "IJWnaTtsP5lM"
      },
      "source": [
        "#### Ex.11* Count total number of order items. What's their minimum, maximum and average price?\n",
        "\n",
        "Note that the question asks about order items (not orders). One order may contain multiple items/products. An order item is identified by (`OrderID` + `ProductID`)."
      ]
    },
    {
      "cell_type": "code",
      "metadata": {
        "id": "QN_WXbVDP5lN"
      },
      "source": [
        "%%sql\n",
        "-- start your code here\n"
      ],
      "execution_count": null,
      "outputs": []
    },
    {
      "cell_type": "markdown",
      "metadata": {
        "id": "atzWiwfxP5lU"
      },
      "source": [
        "#### Ex. 12* How many customers do we have for each contact title.\n",
        "\n",
        "Order the result by the count of contact titles."
      ]
    },
    {
      "cell_type": "code",
      "metadata": {
        "id": "XpwkY2yPP5lU"
      },
      "source": [
        "%%sql\n",
        "-- start your code here\n"
      ],
      "execution_count": null,
      "outputs": []
    },
    {
      "cell_type": "markdown",
      "metadata": {
        "id": "1e2HP45FP5lY"
      },
      "source": [
        "#### Ex.13 Find total customers per country and city"
      ]
    },
    {
      "cell_type": "code",
      "metadata": {
        "id": "eyJLA4IsP5la"
      },
      "source": [
        "%%sql\n",
        "-- start your code here\n"
      ],
      "execution_count": null,
      "outputs": []
    },
    {
      "cell_type": "markdown",
      "metadata": {
        "id": "Ie1Up0WCP5lf"
      },
      "source": [
        "#### Ex.14* Show all orders with values greater than $12,000?\n",
        "\n",
        "Ignore the `Discount`. Contrast this question with Ex.9."
      ]
    },
    {
      "cell_type": "code",
      "metadata": {
        "id": "ghH38U-EP5lf"
      },
      "source": [
        "%%sql\n",
        "-- start your code here\n"
      ],
      "execution_count": null,
      "outputs": []
    },
    {
      "cell_type": "markdown",
      "metadata": {
        "id": "6L0C9-krP5ll"
      },
      "source": [
        "#### Ex.15* (Optional) Find top three countries with the highest average freight charges for the last 12 months. \n",
        "\n",
        "\"The last 12 months\" is with respect to the last `OrderDate` in the `Orders` table."
      ]
    },
    {
      "cell_type": "code",
      "metadata": {
        "id": "XGEsw_hL2FXR"
      },
      "source": [
        "%%sql\n",
        "-- start your code here\n"
      ],
      "execution_count": null,
      "outputs": []
    },
    {
      "cell_type": "markdown",
      "source": [
        "### Part 3. Join Tables\n",
        "\n",
        "1. Inner join: `SELECT...FROM...INNER JOIN...ON...`\n",
        "2. Left join:  `SELECT...FROM...LEFT JOIN...ON...`\n",
        "3. Other joins."
      ],
      "metadata": {
        "id": "4RbV0rSISfqm"
      }
    },
    {
      "cell_type": "markdown",
      "metadata": {
        "id": "vd921rwiP5lr"
      },
      "source": [
        "#### Ex.16* Show products and their associated suppliers\n",
        "\n",
        "Display the `ProductID`, `ProductName`, and the `CompanyName` of the Supplier. Sort by `ProductID`.\n",
        "\n",
        "We can use the `WHERE` keyword."
      ]
    },
    {
      "cell_type": "code",
      "metadata": {
        "id": "YlnNWYlVP5ls"
      },
      "source": [
        "%%sql\n",
        "-- start your code here (WHERE keyword)\n",
        "SELECT ProductID, ProductName, Products.SupplierID, CompanyName as Supplier\n",
        "FROM Products, Suppliers\n",
        "WHERE Products.SupplierID = Suppliers.SupplierID\n",
        "ORDER BY ProductID;"
      ],
      "execution_count": null,
      "outputs": []
    },
    {
      "cell_type": "markdown",
      "metadata": {
        "id": "fLaN2Ph3P5lw"
      },
      "source": [
        "We can also use the `(INNER) JOIN` keyword."
      ]
    },
    {
      "cell_type": "code",
      "metadata": {
        "id": "R9QauiHNP5lw"
      },
      "source": [
        "%%sql\n",
        "-- start your code here (JOIN keyword)\n"
      ],
      "execution_count": null,
      "outputs": []
    },
    {
      "cell_type": "markdown",
      "metadata": {
        "id": "JJYHshMRP5l1"
      },
      "source": [
        "#### Ex.17 Show all orders and shippers with OrderID less than 10255.\n",
        "\n",
        "Display `OrderID`, `OrderDate` (date part only), and `CompanyName` of the Shipper, and sort by `OrderID`. In addition, only display rows with `OrderID < 10255`."
      ]
    },
    {
      "cell_type": "code",
      "source": [
        "%%sql\n",
        "-- start your code here\n"
      ],
      "metadata": {
        "id": "fYp_tdJb5q5E"
      },
      "execution_count": null,
      "outputs": []
    },
    {
      "cell_type": "markdown",
      "metadata": {
        "id": "f_9Va_7xP5mB"
      },
      "source": [
        "#### Ex.18* Find total number of products in each category\n",
        "\n",
        "In your result, display `CategoryName` and total number of product."
      ]
    },
    {
      "cell_type": "code",
      "metadata": {
        "id": "tK7punTbP5mC"
      },
      "source": [
        "%%sql\n",
        "-- start your code here\n"
      ],
      "execution_count": null,
      "outputs": []
    },
    {
      "cell_type": "markdown",
      "metadata": {
        "id": "J3VLQ3iXP5mO"
      },
      "source": [
        "#### Ex.19 Show all orders with values greater than $12,000 and are placed in 2016?\n",
        "\n",
        "In your result, display `OrderID` and total value of the order (ignore `Discount`)."
      ]
    },
    {
      "cell_type": "code",
      "metadata": {
        "id": "OpLqfrRoP5mO"
      },
      "source": [
        "%%sql\n",
        "-- start your code here\n"
      ],
      "execution_count": null,
      "outputs": []
    },
    {
      "cell_type": "markdown",
      "metadata": {
        "id": "2uSIBVYaP5mV"
      },
      "source": [
        "#### Ex.20* What products has Michael Suyama ever sold?\n",
        "\n",
        "In your result, display `EmployeeID`, `FirstName`, `LastName`, `ProductID` and `ProductName`."
      ]
    },
    {
      "cell_type": "code",
      "metadata": {
        "id": "LXOIiGBRP5mW"
      },
      "source": [
        "%%sql\n",
        "-- start your code here\n"
      ],
      "execution_count": null,
      "outputs": []
    },
    {
      "cell_type": "markdown",
      "metadata": {
        "id": "kvuZQGMqP5ml"
      },
      "source": [
        "#### Ex.21* Find customers that never placed an order"
      ]
    },
    {
      "cell_type": "code",
      "metadata": {
        "id": "F7uyq24fP5ml"
      },
      "source": [
        "%%sql\n",
        "-- start your code here\n"
      ],
      "execution_count": null,
      "outputs": []
    },
    {
      "cell_type": "markdown",
      "metadata": {
        "id": "1avlw8OTP5ms"
      },
      "source": [
        "Note that the Jupyter Notebook displays Null as None."
      ]
    },
    {
      "cell_type": "markdown",
      "metadata": {
        "id": "MX-r4ZGhP5oE"
      },
      "source": [
        "## 4 Summary\n",
        "\n",
        "We have covered quite a few basic SQL keywords. They are mostly about getting data from a DB and manipulate the retrieved data. There are much more to SQL. Take a look at this [post](https://stackoverflow.com/questions/2054130/what-is-advanced-sql) to get an idea of what advanced SQL topics are about, and if you are interested, explore them on your own."
      ]
    },
    {
      "cell_type": "markdown",
      "source": [
        "## 5 References\n",
        "\n",
        "Most of the exercises in this notebook are drawn from this [book](https://www.amazon.ca/SQL-Practice-Problems-learn-doing-ebook/dp/B01N41VQFO) by Sylvia Moestl Vasilik. The book is based on Microsoft SQL server and its T-SQL.\n",
        "\n",
        "Another great SQL book for beginner is [SQL in 10 Minute](https://www.amazon.ca/SQL-Minutes-Sams-Teach-Yourself/dp/0135182794) by Ben Forta."
      ],
      "metadata": {
        "id": "_ju5w7iVTy62"
      }
    },
    {
      "cell_type": "markdown",
      "metadata": {
        "id": "_KfSNG5KP5oI"
      },
      "source": [
        "## Appendix\n",
        "\n",
        "Examples of various joins shown in the slides."
      ]
    },
    {
      "cell_type": "code",
      "metadata": {
        "id": "VppwXfH7zXyt"
      },
      "source": [
        "# create a new duckdb database\n",
        "%sql duckdb:///play_ground.duckdb;"
      ],
      "execution_count": null,
      "outputs": []
    },
    {
      "cell_type": "code",
      "metadata": {
        "id": "k6LIK-5VP5oJ"
      },
      "source": [
        "%%sql\n",
        "\n",
        "-- create left table: table1\n",
        "DROP TABLE IF EXISTS table1;\n",
        "\n",
        "CREATE TABLE table1 (\n",
        "  pk INTEGER NOT NULL,\n",
        "  t1c1 TEXT NOT NULL\n",
        ");\n",
        "\n",
        "INSERT INTO table1 \n",
        "    (pk, t1c1) \n",
        "VALUES \n",
        "    (1, 'a'),\n",
        "    (2, 'b');\n",
        "\n",
        "-- create right table: table2\n",
        "DROP TABLE IF EXISTS table2;\n",
        "\n",
        "CREATE TABLE table2 (\n",
        "  fk INTEGER NOT NULL,\n",
        "  t2c1 TEXT NOT NULL\n",
        ");\n",
        "\n",
        "INSERT INTO table2 \n",
        "    (fk, t2c1) \n",
        "VALUES \n",
        "    (1, 'c'),\n",
        "    (1, 'd'),\n",
        "    (3, 'e');"
      ],
      "execution_count": null,
      "outputs": []
    },
    {
      "cell_type": "code",
      "metadata": {
        "id": "D-EBvGSmP5oe"
      },
      "source": [
        "%%sql\n",
        "SELECT * FROM table1;"
      ],
      "execution_count": null,
      "outputs": []
    },
    {
      "cell_type": "code",
      "metadata": {
        "id": "RueQp1XrP5ol"
      },
      "source": [
        "%%sql\n",
        "SELECT * FROM table2;"
      ],
      "execution_count": null,
      "outputs": []
    },
    {
      "cell_type": "code",
      "metadata": {
        "id": "WLKJbsiyP5on"
      },
      "source": [
        "%%sql\n",
        "-- inner join\n",
        "SELECT * FROM table1 JOIN table2 ON table1.pk = table2.fk;"
      ],
      "execution_count": null,
      "outputs": []
    },
    {
      "cell_type": "code",
      "metadata": {
        "id": "9oDsKf8OP5oq"
      },
      "source": [
        "%%sql\n",
        "-- left join\n",
        "SELECT * \n",
        "FROM table1 \n",
        "  LEFT JOIN table2 ON table1.pk = table2.fk;"
      ],
      "execution_count": null,
      "outputs": []
    },
    {
      "cell_type": "code",
      "metadata": {
        "id": "bwqlAhCLP5ou"
      },
      "source": [
        "%%sql\n",
        "-- left join with exclusion (using LEFT JOIN and WHERE)\n",
        "SELECT * \n",
        "FROM table1\n",
        "  LEFT JOIN table2 ON table1.pk = table2.fk\n",
        "WHERE table2.fk IS NULL;"
      ],
      "execution_count": null,
      "outputs": []
    },
    {
      "cell_type": "code",
      "source": [
        "%%sql\n",
        "-- right join using RIGHT JOIN key word\n",
        "SELECT * \n",
        "FROM table1\n",
        "  RIGHT JOIN table2 ON table2.fk = table1.pk;"
      ],
      "metadata": {
        "id": "lLpy3bpAB3NG"
      },
      "execution_count": null,
      "outputs": []
    },
    {
      "cell_type": "code",
      "source": [
        "%%sql\n",
        "-- right join with exclusion using RIGHT JOIN and WHERE key word\n",
        "SELECT * \n",
        "FROM table1\n",
        "  RIGHT JOIN table2 ON table2.fk = table1.pk\n",
        "WHERE table1.pk is NULL;"
      ],
      "metadata": {
        "id": "xAFUJnNgCYQY"
      },
      "execution_count": null,
      "outputs": []
    },
    {
      "cell_type": "code",
      "source": [
        "%%sql\n",
        "-- fuller outer join\n",
        "SELECT *\n",
        "FROM table1\n",
        "  FULL JOIN table2 ON table1.pk = table2.fk;"
      ],
      "metadata": {
        "id": "RRJteZffDwZs"
      },
      "execution_count": null,
      "outputs": []
    },
    {
      "cell_type": "code",
      "metadata": {
        "id": "Ni_n1mWNP5pC"
      },
      "source": [
        "%%sql\n",
        "-- full outer join with exclusion\n",
        "SELECT *\n",
        "FROM table1\n",
        "  FULL JOIN table2 ON table1.pk = table2.fk\n",
        "WHERE table1.pk is NULL OR table2.fk is NULL;"
      ],
      "execution_count": null,
      "outputs": []
    },
    {
      "cell_type": "code",
      "source": [],
      "metadata": {
        "id": "I56nspgQEgqr"
      },
      "execution_count": null,
      "outputs": []
    }
  ]
}